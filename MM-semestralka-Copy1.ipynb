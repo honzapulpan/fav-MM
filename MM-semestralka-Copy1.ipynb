{
 "cells": [
  {
   "cell_type": "markdown",
   "metadata": {},
   "source": [
    "###### Fakulta aplikovaných věd, Západočeská univerzita v Plzni, 2019\n",
    "\n",
    "---"
   ]
  },
  {
   "cell_type": "markdown",
   "metadata": {},
   "source": [
    "# Agent-based-modeling (ABM)\n",
    "\n",
    "### Semestrální práce KMA/MM\n",
    "\n",
    "__Anežka Švandová, Jan Půlpán__"
   ]
  },
  {
   "cell_type": "markdown",
   "metadata": {},
   "source": [
    "# Úvod\n",
    "\n",
    "Agent-based-modeling (ABM; česky multiagentní modelování), je metoda simulace chování \"společenství\", která narozdíl od modelování dynamických systémů pomocí diferenciálních rovnic nezkoumá jen klidové stavy, případně přechody mezi nimy, ale i vývoj celého systému, který ke klidovému stavu vůbec také nemusí vést. Nejen u agentích modelů často mluvíme o ekvilibriu, stavu kdy všichni agenti jsou ve vzájemné rovnováze.\n",
    "\n",
    "- přidat že chování jednotlivce ovlivňuje celek\n",
    "\n",
    "Agentem se rozumí samostatná entita, která má definované chovaní v závislosti na sousedních agentech, případně okolním prostředí.\n",
    "\n",
    "Agenti jsou propojeni mezi sebou do sítě, velmi často ve formě mřížky, případně sítě malého světa, nebo náhodného grafu. (viz obr XYZ). Agenti, kteří v rámci sítě spolu sousedí, mohou interagovat. V některých modelech mohou agenti v rámci sítě i \"cestovat\" a měnit tak svoji polohu. \n",
    "\n",
    "ABM může vhodně doplňovat a ověřovat výsledky modelů, které lze řešit analyticky. Je vhodné pro situace, kdy nás zajímá vlastní dynamika systému, ověření kterého rovnovážného stavu dosahuje systém častěji apod. ABM lze také řešit systémy, které nemají ustálené stavy a nejdou tak řešit analyticky.\n",
    "\n",
    "Konkrétní využití nachází ABM při modelování společenských jevů jako např. šíření informací nebo i virů, vývoj míry nezaměstnanosti, vývoj zaniklých civilizací. V biologii při modelování společenství hmyzu (např mravenců, včel), chování hejn ptáku atd. Firmy pomocí ABM mohou modelovat logistiku, spotřební trhy, zákaznické chování. Další využití je v ekonomii, dopravě nebo i armádě. My se budeme zabývat sociologickými modely, nejvíce pak modelem Roberta Axelroda, šíření kultur."
   ]
  },
  {
   "cell_type": "markdown",
   "metadata": {},
   "source": [
    "# Implementace\n",
    "\n",
    "Obecný matematický postup, jak ABM řešit, bohužel neexistuje (několik pokusů si přesto ukážeme na konci této práce).  Chování modelu se tak nejčastěji zkoumá pomocí simulací, které ukazují chování modelu v čase. V případě ABM je přínosné sledovat i průběh simulace a tím vývoj celého systému. Výsledkem je tedy kromě případně dosaženého ekvilibria i průběh vlastní simulace. Konkrétní model se buď programuje \"na zelené louce\" nebo se využije jeden z dostupných frameworků (nějaké uvést).\n",
    "\n",
    "Vlastní simulace probíhá v diskrétním čase, po jednotlivých iteracích. Síť, do ktré jsou agnti propojeni, je často reprezentována neorientovaným grafem, kdy vrcholy představují jednotlivé agenty a hrany pak jjich propojení. Nejjednoduším tvarem sítě je mřížka, která je velmi jednoduchá na implementaci a nevyžaduje takový výpočetní výkon. U sítě malého světa se pak toto velmi komplikuje.\n",
    "\n",
    "\n",
    "NĚKAM VLOŽIT: ABM je častokrát popisováno jako časově-diskrétní dynamický systém na konečném stavovém prostoru (ať už deterministický, nbo stochastický.\n",
    "\n",
    "Naše implementace je založena na jednoduchém modelu popsaném v článku (CITACE) Roberta Axelroda a implementována jednoduše jako jedna třída v Pythonu.\n",
    "\n"
   ]
  },
  {
   "cell_type": "markdown",
   "metadata": {},
   "source": [
    "# Model šíření kultur\n",
    "\n",
    "_\"If people tend to become more alike in their beliefs, attitudes, and behavior when they interact, why do not all such a differences eventually dissapear?\"_\n",
    "\n",
    "V roce 1997 popsal Robert Axelrod [1] model šíření kultur (odkaz) kde se snaží odpovědět na otázku v podtitulu této kapitoly. Agenti v Axelrodově modelu jsou popsány seznamen vlastností (features), který tak stanovuje dimenzi kultury. Každá z vlastností má pak výčet možných hodnot (traits). Feature může být např jazyk, náboženství, styl oblékání apod. Později se ukázalo, že počet a hlavně vzájemný poměr mezi features a traits hrají velkou roli v tom, zda model dosáhne nebo nedosáhne equilibria.\n",
    "\n",
    "Agenti jsou v Axelrodově modelu uspořádáni do pravidelné čtvercové mřížky, kromě krajních má tedy každý agent 4 sousedy. Agenti se v rámci sítě nepřemisťují, lze je tedy brát např. jako síť homogenních vesnic. \n",
    "\n",
    "Síť agentů se inicializuje náhodnými daty, každý agent je pak reprezentován vektorem features:\n",
    "\n",
    "$$ X(x) = [X^1(x), X^2(x), \\dots , X^F(x)] \\;\\text{ kde } X^i(x) \\in \\{1,2,\\dots,q\\} \\;\\text{ pro } i=1,2,\\dots,F.$$\n",
    "\n",
    "To, jak a jestli vůbec spolu budou 2 sousední agenti interagovat, je závislé na počtu společných features v poměru k počtu všech features. Tuto vlastnost můžeme popsat následující funkcí pro dva agenty $x$ a $y$:\n",
    "\n",
    "$$ F(x,y) = \\frac{1}{F} \\sum_{i=1}^F \\mathbb{1}\\{X^i(x) = X^i(y)\\}$$\n",
    "\n",
    "Dva agenti spolu pak interagují s takovou pravděpodobností, jaké mají procento shodných features. Simulace probíhá v iteracích následujícího algoritmu:\n",
    "\n",
    "Opakuj následující kroky tolikrát kolik je třeba.\n",
    "\n",
    "- Krok 1: Vyber náhodně jednoho aktivního agenta a jednoho jeho náhodného souseda\n",
    "- Krok 2: Agenti spolu interagují s pravděpodobností rovnou $F(x,y)$. Interakce probíhá tak, že soused předá aktivnímu agentovi jednu z vlastností, ve které se neshodují.\n",
    "\n",
    "![AxelrodModel](axelrod_model_static.png \"Axelrodův model\")\n",
    "\n",
    "Axelrod se snaží zodpovědět několik otázek. Jak se v modelu budou vyvíjet jednotlivé kultury? Dospěje model k jedné jednotné kultuře, nebo se vytvoří oddělené kulturní regiony? Ustálí se celý systém, a jestli ano, tak za jak dlouho?\n",
    "\n",
    "\n",
    "Pár dalších poznámek:\n",
    "\n",
    "- pročíst tohle: http://jasss.soc.surrey.ac.uk/12/1/6/appendixB/Axelrod1997.html\n",
    "- model se dá interpretovat jako časově homogenní Markovův chain (pravděpodobnost přechodu z jednoho stavu do jiného nezávisí na čase) (https://cs.wikipedia.org/wiki/Markovův_řetězec)\n",
    "- stav celého systému agntů se dá popsat polem $L \\times L$ kde každý element reprezentuje jednoho agenta a jeho kulturní vektor. Celkové množství všech možných stavů je $q^{fL^2}$ kde $q$ je počet traits, $f$ je počet features a $L^2$ je počet agentů ve čtvercové mřížce (to číslo je strašně veliké - _uvést nějaký konkrétní příklad jak je velké_).\n",
    "- matice pravděpdobnostního přechodu - přechod z jednoho stavu do druhého (matice takto veliká je poměrně problematická). \n",
    "- přechod mezi dvěma stavy $i$ a $j$ a jeho pravděpodobnost\n",
    "    - pokud každý pár agentů má kulturní vektor se všemi sousedy buď kompletně shodný nebo úplně rozdílný, potom je stav $i$ absorbující a pravděpodobnost přechodu je $p_{i,i}=1$ a $p_{i,j}=0$\n",
    "    - pokud existují alespoň 2 sousední agenti, kteří mají alespoň jednu feature shodnou, ale jejich kulturní vektor není identický, potom $p_{i,i} < 1$. Pokud vypočteme $p_{i,j}$, můžem snadno dopočítat i $p_{i,i}$, protože součet prvků na řádku matice pravděpodobnostního přchodu je roven $1$. Označme $H_{ij}$ je množiu agentů, sousedů agenta $k$, kteří mají trait, který $k$ převezme při přechodu ze stavu $i$ do stavu $j$. Označmě $h_{ij}$ kardinalitu množiny $H_{ij}$. Potom pro $p_{i,j}$, $i \\neq j$ platí:\n",
    "$$p_{i,j}=\\frac{1}{L^2h_{i,j}} \\sum_{reH_{ij}} \\frac{n_{kr}}{f} \\frac{1}{f-n_{kr}}$$. "
   ]
  },
  {
   "cell_type": "markdown",
   "metadata": {},
   "source": [
    "# Naše naprogramování modelu šíření kultur\n",
    "\n",
    "Axelrod standardně ukazoval běh modelu na mřížkové struktuře. Náš model umožňuje kromě mřížky i strukturu malého světa, kdy každý agent je propojen na každé straně s 2 sousedy a navíc náhodně ještě s nějakým dalším agentem/agenty. Tímto se ale model velmi zkomplikoval a prodloužil se běh simulace, protože již nelze použít jednoduchou orientaci mezi agenty a celá struktura je mnohem pomalejší na přístup.\n",
    "\n",
    "(těchto propojení je 120% agentů - možná by to taky mohl být parametr modelu)\n",
    "\n",
    "\n",
    "Nejprve si ukážeme Jak vypadá jednoduchý model s mřížkou a 49 agenty (7x7)."
   ]
  },
  {
   "cell_type": "markdown",
   "metadata": {},
   "source": [
    "__Poznámka:__\n",
    "\n",
    "Naše implementace sítě agentů je značně pomalejší než ta, kterou mohl použít Axelrod. Je to dáno tím, že Axelrod počítal jen se sítí ve formě mřížky, kde lze sousedy snadno vyhledat (levý/pravý je index $-1$/$+1$, horní/dolní je index $-\\sqrt(N)/\\sqrt(N)$). Naše implenetace ale počítá s libovolnou síťí, která obsahuje i náhodná spojení. Její implementace ve formě řídkých matic (list listů, případně hash table hash table) je výpočetně náročná na čtení/zápis a hlavně na zjišťování konvergence.\n",
    "\n",
    "V Axelrodově modelu se koncergence zjišťuje také ne na celém modelu, ale na základě toho, zda v 10 po sobě jdoucích interakcích proběhl nějaký update nebo ne.\n",
    "\n",
    "- popsat jak model vytváříme: matice sousednosti + matice globalní similarity\n",
    "\n",
    "V následujícím bloku jen importujeme všechny potřebné knihovny a také třídy Culture a Simulations."
   ]
  },
  {
   "cell_type": "code",
   "execution_count": 1,
   "metadata": {},
   "outputs": [],
   "source": [
    "import matplotlib.pyplot as plt\n",
    "import numpy as np\n",
    "from IPython.display import set_matplotlib_formats\n",
    "set_matplotlib_formats('png', 'pdf')\n",
    "#plt.rcParams['figure.figsize'] = [8, 8]\n",
    "\n",
    "from culture import Culture, Simulation"
   ]
  },
  {
   "cell_type": "markdown",
   "metadata": {},
   "source": [
    "Simulaci modelu si nejprve ukážeme na jednoduché mřížce $4 \\times 4$ agentů. Každý z agentu má $F=5$ a každá s features nabývá jednu z $q=5$ možných traits. \n",
    "\n",
    "Po vytvoření sítě s agenty je na obrázku znázorněn graf se sítí agentů a iniciální stav glabal similarity. Čím je hrana grafu světlejší, tím je podobnost sousedních agentů menší. Pokud se agenti neshodují v žádné z features, není hrana zobrazena vůbec."
   ]
  },
  {
   "cell_type": "code",
   "execution_count": 2,
   "metadata": {},
   "outputs": [
    {
     "name": "stdout",
     "output_type": "stream",
     "text": [
      "Počet agentů: 16 (f:5, t:5)\n",
      "Počet všech propojení: 48\n",
      "Počet propojení která mohou interagovat (0 < similarity < 1): 26\n",
      "Počet komponent/kultur: 0\n",
      "\n",
      "Maximální počet iterací: 50000\n",
      "\n",
      "\n"
     ]
    },
    {
     "data": {
      "image/png": "[encoded data removed]",
      "text/plain": [
       "<Figure size 432x288 with 1 Axes>"
      ]
     },
     "metadata": {},
     "output_type": "display_data"
    },
    {
     "data": {
      "image/png": "[encoded data removed]",
      "text/plain": [
       "<Figure size 432x288 with 1 Axes>"
      ]
     },
     "metadata": {},
     "output_type": "display_data"
    }
   ],
   "source": [
    "c1 = Culture(16, 1, 5, 5, 50000)\n",
    "c1.analyze()\n",
    "c1.plot_net()\n",
    "c1.plot_gsnet()"
   ]
  },
  {
   "cell_type": "markdown",
   "metadata": {},
   "source": [
    "Nyní pustíme na tomto jednoduchém modleu simulaci. Na následujících obrázcích je znázorněn průběh simulace."
   ]
  },
  {
   "cell_type": "code",
   "execution_count": 3,
   "metadata": {},
   "outputs": [],
   "source": [
    "c1.simulate(save_progress=200);"
   ]
  },
  {
   "cell_type": "code",
   "execution_count": 4,
   "metadata": {},
   "outputs": [
    {
     "name": "stdout",
     "output_type": "stream",
     "text": [
      "Počet agentů: 16 (f:5, t:5)\n",
      "Počet všech propojení: 48\n",
      "Počet propojení která mohou interagovat (0 < similarity < 1): 0\n",
      "Počet komponent/kultur: 1\n",
      "\n",
      "Maximální počet iterací: 50000\n",
      "Model konvergoval v 577 iteracích\n",
      "\n",
      "\n"
     ]
    }
   ],
   "source": [
    "c1.analyze()"
   ]
  },
  {
   "cell_type": "markdown",
   "metadata": {},
   "source": [
    "|200 iterací | 400 iterací|\n",
    "|:---:|:---:|\n",
    "|![alt](sim1_200.png) | ![alt](sim1_400.png)|\n",
    "\n",
    "---\n",
    "\n",
    "|600 iterací | 750 iterací|\n",
    "|:---:|:---:|\n",
    "|![alt](sim1_600.png) | ![alt](sim1_final.png)|\n"
   ]
  },
  {
   "cell_type": "markdown",
   "metadata": {},
   "source": [
    "Stejnou simulaci provedeme pro síť malého světa za použití stejných parametrů. Pro názornost vypneme dodatešné náhodné spojení mezi agenty, abychom v grafem snadněni viděli dosaženou strukturu."
   ]
  },
  {
   "cell_type": "code",
   "execution_count": 5,
   "metadata": {},
   "outputs": [
    {
     "name": "stdout",
     "output_type": "stream",
     "text": [
      "Počet agentů: 16 (f:5, t:5)\n",
      "Počet všech propojení: 64\n",
      "Počet propojení která mohou interagovat (0 < similarity < 1): 40\n",
      "Počet komponent/kultur: 0\n",
      "\n",
      "Maximální počet iterací: 50000\n",
      "\n",
      "\n"
     ]
    },
    {
     "data": {
      "image/png": "[encoded data removed]",
      "text/plain": [
       "<Figure size 432x288 with 1 Axes>"
      ]
     },
     "metadata": {},
     "output_type": "display_data"
    },
    {
     "data": {
      "image/png": "[encoded data removed]",
      "text/plain": [
       "<Figure size 432x288 with 1 Axes>"
      ]
     },
     "metadata": {},
     "output_type": "display_data"
    }
   ],
   "source": [
    "c1 = Culture(16, 0, 5, 5, 50000, random_con=False)\n",
    "c1.analyze()\n",
    "c1.plot_net()\n",
    "c1.plot_gsnet()"
   ]
  },
  {
   "cell_type": "code",
   "execution_count": 32,
   "metadata": {},
   "outputs": [
    {
     "name": "stdout",
     "output_type": "stream",
     "text": [
      "Počet agentů: 16 (f:5, t:5)\n",
      "Počet všech propojení: 64\n",
      "Počet propojení která mohou interagovat (0 < similarity < 1): 0\n",
      "Počet komponent/kultur: 1\n",
      "\n",
      "Maximální počet iterací: 50000\n",
      "Model konvergoval v 594 iteracích\n",
      "\n",
      "\n"
     ]
    },
    {
     "data": {
      "text/plain": [
       "<Figure size 432x288 with 0 Axes>"
      ]
     },
     "metadata": {},
     "output_type": "display_data"
    }
   ],
   "source": [
    "c1.simulate(save_progress=200)\n",
    "c1.analyze()"
   ]
  },
  {
   "cell_type": "markdown",
   "metadata": {},
   "source": [
    "|200 iterací | 400 iterací|\n",
    "|:---:|:---:|\n",
    "|![alt](sim0_200.png) | ![alt](sim0_400.png)|\n",
    "\n",
    "---\n",
    "\n",
    "|600 iterací | 750 iterací|\n",
    "|:---:|:---:|\n",
    "|![alt](sim0_600.png) | ![alt](sim0_final.png)|\n",
    "\n"
   ]
  },
  {
   "cell_type": "markdown",
   "metadata": {},
   "source": [
    "# Výsledky\n",
    "\n",
    "Výsledný parametr, který nás zajímá je, do kolika regionů (komponent grafu) společnost konvergovala. Protože je celý proces stochastický, provedeme větší počet simulací a ty potom budeme analyzovat."
   ]
  },
  {
   "cell_type": "code",
   "execution_count": 2,
   "metadata": {},
   "outputs": [],
   "source": [
    "s1 = Simulation(a_cnt=[25,],\n",
    "                c_net=1,\n",
    "               f_cnt=[2,6],\n",
    "               t_cnt=[2,8],\n",
    "               sim_cnt=5,\n",
    "               maxiter=5000,\n",
    "               file='test.csv')"
   ]
  },
  {
   "cell_type": "code",
   "execution_count": 4,
   "metadata": {},
   "outputs": [
    {
     "name": "stdout",
     "output_type": "stream",
     "text": [
      "Progress: [####################] 100.0%\n",
      "CPU times: user 12.9 s, sys: 639 ms, total: 13.5 s\n",
      "Wall time: 13.2 s\n"
     ]
    }
   ],
   "source": [
    "%%time\n",
    "s1.run_simulations()"
   ]
  },
  {
   "cell_type": "code",
   "execution_count": 3,
   "metadata": {},
   "outputs": [
    {
     "data": {
      "text/html": [
       "<div>\n",
       "<style scoped>\n",
       "    .dataframe tbody tr th:only-of-type {\n",
       "        vertical-align: middle;\n",
       "    }\n",
       "\n",
       "    .dataframe tbody tr th {\n",
       "        vertical-align: top;\n",
       "    }\n",
       "\n",
       "    .dataframe thead tr th {\n",
       "        text-align: left;\n",
       "    }\n",
       "\n",
       "    .dataframe thead tr:last-of-type th {\n",
       "        text-align: right;\n",
       "    }\n",
       "</style>\n",
       "<table border=\"1\" class=\"dataframe\">\n",
       "  <thead>\n",
       "    <tr>\n",
       "      <th></th>\n",
       "      <th colspan=\"2\" halign=\"left\">regions</th>\n",
       "    </tr>\n",
       "    <tr>\n",
       "      <th>traits</th>\n",
       "      <th>2</th>\n",
       "      <th>8</th>\n",
       "    </tr>\n",
       "    <tr>\n",
       "      <th>features</th>\n",
       "      <th></th>\n",
       "      <th></th>\n",
       "    </tr>\n",
       "  </thead>\n",
       "  <tbody>\n",
       "    <tr>\n",
       "      <th>2</th>\n",
       "      <td>2.4</td>\n",
       "      <td>9.2</td>\n",
       "    </tr>\n",
       "    <tr>\n",
       "      <th>6</th>\n",
       "      <td>1.0</td>\n",
       "      <td>1.0</td>\n",
       "    </tr>\n",
       "  </tbody>\n",
       "</table>\n",
       "</div>"
      ],
      "text/plain": [
       "         regions     \n",
       "traits         2    8\n",
       "features             \n",
       "2            2.4  9.2\n",
       "6            1.0  1.0"
      ]
     },
     "metadata": {},
     "output_type": "display_data"
    }
   ],
   "source": [
    "s1.regions_table()"
   ]
  },
  {
   "cell_type": "code",
   "execution_count": 4,
   "metadata": {},
   "outputs": [
    {
     "data": {
      "text/html": [
       "<div>\n",
       "<style scoped>\n",
       "    .dataframe tbody tr th:only-of-type {\n",
       "        vertical-align: middle;\n",
       "    }\n",
       "\n",
       "    .dataframe tbody tr th {\n",
       "        vertical-align: top;\n",
       "    }\n",
       "\n",
       "    .dataframe thead tr th {\n",
       "        text-align: left;\n",
       "    }\n",
       "\n",
       "    .dataframe thead tr:last-of-type th {\n",
       "        text-align: right;\n",
       "    }\n",
       "</style>\n",
       "<table border=\"1\" class=\"dataframe\">\n",
       "  <thead>\n",
       "    <tr>\n",
       "      <th></th>\n",
       "      <th colspan=\"2\" halign=\"left\">usediter</th>\n",
       "    </tr>\n",
       "    <tr>\n",
       "      <th>traits</th>\n",
       "      <th>2</th>\n",
       "      <th>8</th>\n",
       "    </tr>\n",
       "    <tr>\n",
       "      <th>features</th>\n",
       "      <th></th>\n",
       "      <th></th>\n",
       "    </tr>\n",
       "  </thead>\n",
       "  <tbody>\n",
       "    <tr>\n",
       "      <th>2</th>\n",
       "      <td>196.8</td>\n",
       "      <td>79.4</td>\n",
       "    </tr>\n",
       "    <tr>\n",
       "      <th>6</th>\n",
       "      <td>1349.8</td>\n",
       "      <td>2370.8</td>\n",
       "    </tr>\n",
       "  </tbody>\n",
       "</table>\n",
       "</div>"
      ],
      "text/plain": [
       "         usediter        \n",
       "traits          2       8\n",
       "features                 \n",
       "2           196.8    79.4\n",
       "6          1349.8  2370.8"
      ]
     },
     "metadata": {},
     "output_type": "display_data"
    }
   ],
   "source": [
    "s1.usediter_table()"
   ]
  },
  {
   "cell_type": "code",
   "execution_count": 18,
   "metadata": {},
   "outputs": [],
   "source": [
    "del s1"
   ]
  },
  {
   "cell_type": "markdown",
   "metadata": {},
   "source": [
    "Můžeme si vyzkoušet stejné modely, které ve svém článku testoval Axelrod. Nejprve pro mřížku."
   ]
  },
  {
   "cell_type": "code",
   "execution_count": 9,
   "metadata": {},
   "outputs": [],
   "source": [
    "s1 = Simulation(a_cnt=[100,],\n",
    "                c_net=1,\n",
    "               f_cnt=[5,10,15],\n",
    "               t_cnt=[5,10,15],\n",
    "               sim_cnt=10,\n",
    "               maxiter=100000,\n",
    "               file='axelrod.csv')"
   ]
  },
  {
   "cell_type": "code",
   "execution_count": 20,
   "metadata": {},
   "outputs": [
    {
     "name": "stdout",
     "output_type": "stream",
     "text": [
      "Progress: [####################] 100.0%\n",
      "CPU times: user 4min 32s, sys: 2.72 s, total: 4min 35s\n",
      "Wall time: 4min 33s\n"
     ]
    }
   ],
   "source": [
    "%%time\n",
    "### Běží asi 1,5h\n",
    "s1.run_simulations()"
   ]
  },
  {
   "cell_type": "markdown",
   "metadata": {},
   "source": [
    "Jak vypadá závislost počtu regionů na počtu features a traits?"
   ]
  },
  {
   "cell_type": "code",
   "execution_count": 10,
   "metadata": {},
   "outputs": [
    {
     "data": {
      "text/html": [
       "<style  type=\"text/css\" >\n",
       "    #T_f859f4a8_0f6d_11ea_8985_8c859073f641row0_col0 {\n",
       "            width:  150px;\n",
       "        }    #T_f859f4a8_0f6d_11ea_8985_8c859073f641row0_col1 {\n",
       "            width:  150px;\n",
       "        }    #T_f859f4a8_0f6d_11ea_8985_8c859073f641row0_col2 {\n",
       "            width:  150px;\n",
       "        }    #T_f859f4a8_0f6d_11ea_8985_8c859073f641row1_col0 {\n",
       "            width:  150px;\n",
       "        }    #T_f859f4a8_0f6d_11ea_8985_8c859073f641row1_col1 {\n",
       "            width:  150px;\n",
       "        }    #T_f859f4a8_0f6d_11ea_8985_8c859073f641row1_col2 {\n",
       "            width:  150px;\n",
       "        }    #T_f859f4a8_0f6d_11ea_8985_8c859073f641row2_col0 {\n",
       "            width:  150px;\n",
       "        }    #T_f859f4a8_0f6d_11ea_8985_8c859073f641row2_col1 {\n",
       "            width:  150px;\n",
       "        }    #T_f859f4a8_0f6d_11ea_8985_8c859073f641row2_col2 {\n",
       "            width:  150px;\n",
       "        }</style><table id=\"T_f859f4a8_0f6d_11ea_8985_8c859073f641\" ><thead>    <tr>        <th class=\"blank level0\" ></th>        <th class=\"col_heading level0 col0\" colspan=3>regions</th>    </tr>    <tr>        <th class=\"index_name level1\" >traits</th>        <th class=\"col_heading level1 col0\" >5</th>        <th class=\"col_heading level1 col1\" >10</th>        <th class=\"col_heading level1 col2\" >15</th>    </tr>    <tr>        <th class=\"index_name level0\" >features</th>        <th class=\"blank\" ></th>        <th class=\"blank\" ></th>        <th class=\"blank\" ></th>    </tr></thead><tbody>\n",
       "                <tr>\n",
       "                        <th id=\"T_f859f4a8_0f6d_11ea_8985_8c859073f641level0_row0\" class=\"row_heading level0 row0\" >5</th>\n",
       "                        <td id=\"T_f859f4a8_0f6d_11ea_8985_8c859073f641row0_col0\" class=\"data row0 col0\" >1.1</td>\n",
       "                        <td id=\"T_f859f4a8_0f6d_11ea_8985_8c859073f641row0_col1\" class=\"data row0 col1\" >1.4</td>\n",
       "                        <td id=\"T_f859f4a8_0f6d_11ea_8985_8c859073f641row0_col2\" class=\"data row0 col2\" >2.8</td>\n",
       "            </tr>\n",
       "            <tr>\n",
       "                        <th id=\"T_f859f4a8_0f6d_11ea_8985_8c859073f641level0_row1\" class=\"row_heading level0 row1\" >10</th>\n",
       "                        <td id=\"T_f859f4a8_0f6d_11ea_8985_8c859073f641row1_col0\" class=\"data row1 col0\" >1</td>\n",
       "                        <td id=\"T_f859f4a8_0f6d_11ea_8985_8c859073f641row1_col1\" class=\"data row1 col1\" >1</td>\n",
       "                        <td id=\"T_f859f4a8_0f6d_11ea_8985_8c859073f641row1_col2\" class=\"data row1 col2\" >1</td>\n",
       "            </tr>\n",
       "            <tr>\n",
       "                        <th id=\"T_f859f4a8_0f6d_11ea_8985_8c859073f641level0_row2\" class=\"row_heading level0 row2\" >15</th>\n",
       "                        <td id=\"T_f859f4a8_0f6d_11ea_8985_8c859073f641row2_col0\" class=\"data row2 col0\" >1</td>\n",
       "                        <td id=\"T_f859f4a8_0f6d_11ea_8985_8c859073f641row2_col1\" class=\"data row2 col1\" >1</td>\n",
       "                        <td id=\"T_f859f4a8_0f6d_11ea_8985_8c859073f641row2_col2\" class=\"data row2 col2\" >1</td>\n",
       "            </tr>\n",
       "    </tbody></table>"
      ],
      "text/plain": [
       "<pandas.io.formats.style.Styler at 0x122124b38>"
      ]
     },
     "metadata": {},
     "output_type": "display_data"
    }
   ],
   "source": [
    "s1.regions_table(100)"
   ]
  },
  {
   "cell_type": "code",
   "execution_count": 15,
   "metadata": {},
   "outputs": [],
   "source": [
    "del s1\n"
   ]
  },
  {
   "cell_type": "markdown",
   "metadata": {},
   "source": [
    "To samé pro malý svět."
   ]
  },
  {
   "cell_type": "code",
   "execution_count": 16,
   "metadata": {},
   "outputs": [],
   "source": [
    "s1 = Simulation(a_cnt=[100,],\n",
    "                c_net=0,\n",
    "               f_cnt=[5,10,15],\n",
    "               t_cnt=[5,10,15],\n",
    "               sim_cnt=10,\n",
    "               maxiter=100000,\n",
    "               file='axelrod_small_world.csv')"
   ]
  },
  {
   "cell_type": "code",
   "execution_count": 17,
   "metadata": {},
   "outputs": [
    {
     "name": "stdout",
     "output_type": "stream",
     "text": [
      "Progress: [####################] 100.0%\n",
      "CPU times: user 1h 35min 56s, sys: 25.2 s, total: 1h 36min 21s\n",
      "Wall time: 3h 19min 46s\n"
     ]
    }
   ],
   "source": [
    "%%time\n",
    "### Běží asi 1,5h\n",
    "s1.run_simulations()"
   ]
  },
  {
   "cell_type": "code",
   "execution_count": 18,
   "metadata": {},
   "outputs": [
    {
     "data": {
      "text/html": [
       "<style  type=\"text/css\" >\n",
       "    #T_6a644442_0f8c_11ea_acc6_8c859073f641row0_col0 {\n",
       "            width:  150px;\n",
       "        }    #T_6a644442_0f8c_11ea_acc6_8c859073f641row0_col1 {\n",
       "            width:  150px;\n",
       "        }    #T_6a644442_0f8c_11ea_acc6_8c859073f641row0_col2 {\n",
       "            width:  150px;\n",
       "        }    #T_6a644442_0f8c_11ea_acc6_8c859073f641row1_col0 {\n",
       "            width:  150px;\n",
       "        }    #T_6a644442_0f8c_11ea_acc6_8c859073f641row1_col1 {\n",
       "            width:  150px;\n",
       "        }    #T_6a644442_0f8c_11ea_acc6_8c859073f641row1_col2 {\n",
       "            width:  150px;\n",
       "        }    #T_6a644442_0f8c_11ea_acc6_8c859073f641row2_col0 {\n",
       "            width:  150px;\n",
       "        }    #T_6a644442_0f8c_11ea_acc6_8c859073f641row2_col1 {\n",
       "            width:  150px;\n",
       "        }    #T_6a644442_0f8c_11ea_acc6_8c859073f641row2_col2 {\n",
       "            width:  150px;\n",
       "        }</style><table id=\"T_6a644442_0f8c_11ea_acc6_8c859073f641\" ><thead>    <tr>        <th class=\"blank level0\" ></th>        <th class=\"col_heading level0 col0\" colspan=3>regions</th>    </tr>    <tr>        <th class=\"index_name level1\" >traits</th>        <th class=\"col_heading level1 col0\" >5</th>        <th class=\"col_heading level1 col1\" >10</th>        <th class=\"col_heading level1 col2\" >15</th>    </tr>    <tr>        <th class=\"index_name level0\" >features</th>        <th class=\"blank\" ></th>        <th class=\"blank\" ></th>        <th class=\"blank\" ></th>    </tr></thead><tbody>\n",
       "                <tr>\n",
       "                        <th id=\"T_6a644442_0f8c_11ea_acc6_8c859073f641level0_row0\" class=\"row_heading level0 row0\" >5</th>\n",
       "                        <td id=\"T_6a644442_0f8c_11ea_acc6_8c859073f641row0_col0\" class=\"data row0 col0\" >1</td>\n",
       "                        <td id=\"T_6a644442_0f8c_11ea_acc6_8c859073f641row0_col1\" class=\"data row0 col1\" >1.5</td>\n",
       "                        <td id=\"T_6a644442_0f8c_11ea_acc6_8c859073f641row0_col2\" class=\"data row0 col2\" >2.5</td>\n",
       "            </tr>\n",
       "            <tr>\n",
       "                        <th id=\"T_6a644442_0f8c_11ea_acc6_8c859073f641level0_row1\" class=\"row_heading level0 row1\" >10</th>\n",
       "                        <td id=\"T_6a644442_0f8c_11ea_acc6_8c859073f641row1_col0\" class=\"data row1 col0\" >1</td>\n",
       "                        <td id=\"T_6a644442_0f8c_11ea_acc6_8c859073f641row1_col1\" class=\"data row1 col1\" >1</td>\n",
       "                        <td id=\"T_6a644442_0f8c_11ea_acc6_8c859073f641row1_col2\" class=\"data row1 col2\" >1</td>\n",
       "            </tr>\n",
       "            <tr>\n",
       "                        <th id=\"T_6a644442_0f8c_11ea_acc6_8c859073f641level0_row2\" class=\"row_heading level0 row2\" >15</th>\n",
       "                        <td id=\"T_6a644442_0f8c_11ea_acc6_8c859073f641row2_col0\" class=\"data row2 col0\" >1</td>\n",
       "                        <td id=\"T_6a644442_0f8c_11ea_acc6_8c859073f641row2_col1\" class=\"data row2 col1\" >1</td>\n",
       "                        <td id=\"T_6a644442_0f8c_11ea_acc6_8c859073f641row2_col2\" class=\"data row2 col2\" >1</td>\n",
       "            </tr>\n",
       "    </tbody></table>"
      ],
      "text/plain": [
       "<pandas.io.formats.style.Styler at 0x11325b748>"
      ]
     },
     "metadata": {},
     "output_type": "display_data"
    }
   ],
   "source": [
    "s1.regions_table(100)"
   ]
  },
  {
   "cell_type": "code",
   "execution_count": null,
   "metadata": {},
   "outputs": [],
   "source": [
    "%%time\n",
    "\n",
    "#### tohle je velkej model 100x100 agentů v mřížce\n",
    "#### ještě jsem ho nepustil a možá nebude ani třeba\n",
    "\n",
    "c1 = Culture(10000, 1, 2, 5, 3000000)\n",
    "c1.simulate()\n",
    "c1.analyze()"
   ]
  },
  {
   "cell_type": "markdown",
   "metadata": {},
   "source": [
    "Axelrod ve svém článku ukazuje funkci závislosti počtu stabilních regionů na velikosti teritoria (počtu agentů). My jsme díky omeznému výpočetnímu výkonu nemohli udělat stejné testy, provedli jsme je tedy na menším vzorku. Výsledky jsou přesto obdobné."
   ]
  },
  {
   "cell_type": "code",
   "execution_count": 7,
   "metadata": {},
   "outputs": [],
   "source": [
    "s1 = Simulation(a_cnt=[25, 36, 49, 100, 144, 225],\n",
    "                c_net=1,\n",
    "               f_cnt=[2, 6, 10],\n",
    "               t_cnt=[2, 6, 10, 14, 18],\n",
    "               sim_cnt=5,\n",
    "               maxiter=500000,\n",
    "               file='simulations_grid.csv')"
   ]
  },
  {
   "cell_type": "code",
   "execution_count": 16,
   "metadata": {},
   "outputs": [
    {
     "name": "stdout",
     "output_type": "stream",
     "text": [
      "Progress: [####################] 100.0%\n",
      "CPU times: user 14h 5min 38s, sys: 10min 5s, total: 14h 15min 43s\n",
      "Wall time: 21h 26min 1s\n"
     ]
    }
   ],
   "source": [
    "%%time\n",
    "\n",
    "#### Pozor, běží 12 hodin!!!!!\n",
    "s1.run_simulations()"
   ]
  },
  {
   "cell_type": "markdown",
   "metadata": {},
   "source": [
    "Ná následujícím grafu je zobrazena závislost průměrného počtu stabilních regionů, na velikosti sítě pro malý svět. Každá similace byla proveda 5 krát se stejnými parametry a výsledek je zobrazen v grafu. Z něj je patrné, že s zvětšující se sítí se počet stabilních regionů zmenšuje."
   ]
  },
  {
   "cell_type": "code",
   "execution_count": 30,
   "metadata": {},
   "outputs": [
    {
     "data": {
      "application/pdf": "[encoded data removed]",
      "image/png": "[encoded data removed]",
      "text/plain": [
       "<Figure size 864x576 with 1 Axes>"
      ]
     },
     "metadata": {},
     "output_type": "display_data"
    }
   ],
   "source": [
    "plt.rcParams['figure.figsize'] = [12, 8]\n",
    "s1.agents_regs_plot(6,14)"
   ]
  },
  {
   "cell_type": "code",
   "execution_count": 8,
   "metadata": {},
   "outputs": [
    {
     "data": {
      "text/html": [
       "<style  type=\"text/css\" >\n",
       "    #T_bd862de4_0f6d_11ea_b3a3_8c859073f641row0_col0 {\n",
       "            width:  150px;\n",
       "        }    #T_bd862de4_0f6d_11ea_b3a3_8c859073f641row0_col1 {\n",
       "            width:  150px;\n",
       "        }    #T_bd862de4_0f6d_11ea_b3a3_8c859073f641row0_col2 {\n",
       "            width:  150px;\n",
       "        }    #T_bd862de4_0f6d_11ea_b3a3_8c859073f641row0_col3 {\n",
       "            width:  150px;\n",
       "        }    #T_bd862de4_0f6d_11ea_b3a3_8c859073f641row0_col4 {\n",
       "            width:  150px;\n",
       "        }    #T_bd862de4_0f6d_11ea_b3a3_8c859073f641row1_col0 {\n",
       "            width:  150px;\n",
       "        }    #T_bd862de4_0f6d_11ea_b3a3_8c859073f641row1_col1 {\n",
       "            width:  150px;\n",
       "        }    #T_bd862de4_0f6d_11ea_b3a3_8c859073f641row1_col2 {\n",
       "            width:  150px;\n",
       "        }    #T_bd862de4_0f6d_11ea_b3a3_8c859073f641row1_col3 {\n",
       "            width:  150px;\n",
       "        }    #T_bd862de4_0f6d_11ea_b3a3_8c859073f641row1_col4 {\n",
       "            width:  150px;\n",
       "        }    #T_bd862de4_0f6d_11ea_b3a3_8c859073f641row2_col0 {\n",
       "            width:  150px;\n",
       "        }    #T_bd862de4_0f6d_11ea_b3a3_8c859073f641row2_col1 {\n",
       "            width:  150px;\n",
       "        }    #T_bd862de4_0f6d_11ea_b3a3_8c859073f641row2_col2 {\n",
       "            width:  150px;\n",
       "        }    #T_bd862de4_0f6d_11ea_b3a3_8c859073f641row2_col3 {\n",
       "            width:  150px;\n",
       "        }    #T_bd862de4_0f6d_11ea_b3a3_8c859073f641row2_col4 {\n",
       "            width:  150px;\n",
       "        }</style><table id=\"T_bd862de4_0f6d_11ea_b3a3_8c859073f641\" ><thead>    <tr>        <th class=\"blank level0\" ></th>        <th class=\"col_heading level0 col0\" colspan=5>regions</th>    </tr>    <tr>        <th class=\"index_name level1\" >traits</th>        <th class=\"col_heading level1 col0\" >2</th>        <th class=\"col_heading level1 col1\" >6</th>        <th class=\"col_heading level1 col2\" >10</th>        <th class=\"col_heading level1 col3\" >14</th>        <th class=\"col_heading level1 col4\" >18</th>    </tr>    <tr>        <th class=\"index_name level0\" >features</th>        <th class=\"blank\" ></th>        <th class=\"blank\" ></th>        <th class=\"blank\" ></th>        <th class=\"blank\" ></th>        <th class=\"blank\" ></th>    </tr></thead><tbody>\n",
       "                <tr>\n",
       "                        <th id=\"T_bd862de4_0f6d_11ea_b3a3_8c859073f641level0_row0\" class=\"row_heading level0 row0\" >2</th>\n",
       "                        <td id=\"T_bd862de4_0f6d_11ea_b3a3_8c859073f641row0_col0\" class=\"data row0 col0\" >2.4</td>\n",
       "                        <td id=\"T_bd862de4_0f6d_11ea_b3a3_8c859073f641row0_col1\" class=\"data row0 col1\" >11.2</td>\n",
       "                        <td id=\"T_bd862de4_0f6d_11ea_b3a3_8c859073f641row0_col2\" class=\"data row0 col2\" >26.4</td>\n",
       "                        <td id=\"T_bd862de4_0f6d_11ea_b3a3_8c859073f641row0_col3\" class=\"data row0 col3\" >47.2</td>\n",
       "                        <td id=\"T_bd862de4_0f6d_11ea_b3a3_8c859073f641row0_col4\" class=\"data row0 col4\" >63.8</td>\n",
       "            </tr>\n",
       "            <tr>\n",
       "                        <th id=\"T_bd862de4_0f6d_11ea_b3a3_8c859073f641level0_row1\" class=\"row_heading level0 row1\" >6</th>\n",
       "                        <td id=\"T_bd862de4_0f6d_11ea_b3a3_8c859073f641row1_col0\" class=\"data row1 col0\" >1</td>\n",
       "                        <td id=\"T_bd862de4_0f6d_11ea_b3a3_8c859073f641row1_col1\" class=\"data row1 col1\" >1</td>\n",
       "                        <td id=\"T_bd862de4_0f6d_11ea_b3a3_8c859073f641row1_col2\" class=\"data row1 col2\" >1</td>\n",
       "                        <td id=\"T_bd862de4_0f6d_11ea_b3a3_8c859073f641row1_col3\" class=\"data row1 col3\" >1.2</td>\n",
       "                        <td id=\"T_bd862de4_0f6d_11ea_b3a3_8c859073f641row1_col4\" class=\"data row1 col4\" >2.2</td>\n",
       "            </tr>\n",
       "            <tr>\n",
       "                        <th id=\"T_bd862de4_0f6d_11ea_b3a3_8c859073f641level0_row2\" class=\"row_heading level0 row2\" >10</th>\n",
       "                        <td id=\"T_bd862de4_0f6d_11ea_b3a3_8c859073f641row2_col0\" class=\"data row2 col0\" >1</td>\n",
       "                        <td id=\"T_bd862de4_0f6d_11ea_b3a3_8c859073f641row2_col1\" class=\"data row2 col1\" >1</td>\n",
       "                        <td id=\"T_bd862de4_0f6d_11ea_b3a3_8c859073f641row2_col2\" class=\"data row2 col2\" >1</td>\n",
       "                        <td id=\"T_bd862de4_0f6d_11ea_b3a3_8c859073f641row2_col3\" class=\"data row2 col3\" >1.2</td>\n",
       "                        <td id=\"T_bd862de4_0f6d_11ea_b3a3_8c859073f641row2_col4\" class=\"data row2 col4\" >1.2</td>\n",
       "            </tr>\n",
       "    </tbody></table>"
      ],
      "text/plain": [
       "<pandas.io.formats.style.Styler at 0x122124f60>"
      ]
     },
     "metadata": {},
     "output_type": "display_data"
    }
   ],
   "source": [
    "s1.regions_table(100)"
   ]
  },
  {
   "cell_type": "markdown",
   "metadata": {},
   "source": [
    "Kvůli použité implementaci sítě jsme nemohli na hw, který jsme měli k dispozici, ověřit stejný model, jako ve svém článku použil Axelrod. Přesto jsou naše výsledky velmi podobné.\n",
    "\n",
    "![Axelrod](axelrod_territory_regions.png \"Title\")"
   ]
  },
  {
   "cell_type": "code",
   "execution_count": null,
   "metadata": {},
   "outputs": [],
   "source": [
    "del s1"
   ]
  },
  {
   "cell_type": "code",
   "execution_count": 4,
   "metadata": {},
   "outputs": [],
   "source": [
    "#pro velký úspěch to zkusíme vygnerovaj ještě pro malý svět\n",
    "\n",
    "s1 = Simulation(a_cnt=[25, 36, 49, 100, 144, 225],\n",
    "                c_net=0,\n",
    "               f_cnt=[2, 6, 10],\n",
    "               t_cnt=[2, 6, 10, 14, 18],\n",
    "               sim_cnt=5,\n",
    "               maxiter=500000,\n",
    "               file='simulations_small_world.csv')\n",
    "\n",
    "#### Pozor, běží 12 hodin!!!!!\n",
    "#s1.run_simulations()"
   ]
  },
  {
   "cell_type": "code",
   "execution_count": 5,
   "metadata": {},
   "outputs": [
    {
     "data": {
      "application/pdf": "[encoded data removed]",
      "image/png": "[encoded data removed]",
      "text/plain": [
       "<Figure size 864x576 with 1 Axes>"
      ]
     },
     "metadata": {},
     "output_type": "display_data"
    }
   ],
   "source": [
    "plt.rcParams['figure.figsize'] = [12, 8]\n",
    "s1.agents_regs_plot(6,14)"
   ]
  },
  {
   "cell_type": "code",
   "execution_count": 6,
   "metadata": {},
   "outputs": [
    {
     "data": {
      "text/html": [
       "<style  type=\"text/css\" >\n",
       "    #T_8b7ff33e_0f6d_11ea_adce_8c859073f641row0_col0 {\n",
       "            width:  150px;\n",
       "        }    #T_8b7ff33e_0f6d_11ea_adce_8c859073f641row0_col1 {\n",
       "            width:  150px;\n",
       "        }    #T_8b7ff33e_0f6d_11ea_adce_8c859073f641row0_col2 {\n",
       "            width:  150px;\n",
       "        }    #T_8b7ff33e_0f6d_11ea_adce_8c859073f641row0_col3 {\n",
       "            width:  150px;\n",
       "        }    #T_8b7ff33e_0f6d_11ea_adce_8c859073f641row0_col4 {\n",
       "            width:  150px;\n",
       "        }    #T_8b7ff33e_0f6d_11ea_adce_8c859073f641row1_col0 {\n",
       "            width:  150px;\n",
       "        }    #T_8b7ff33e_0f6d_11ea_adce_8c859073f641row1_col1 {\n",
       "            width:  150px;\n",
       "        }    #T_8b7ff33e_0f6d_11ea_adce_8c859073f641row1_col2 {\n",
       "            width:  150px;\n",
       "        }    #T_8b7ff33e_0f6d_11ea_adce_8c859073f641row1_col3 {\n",
       "            width:  150px;\n",
       "        }    #T_8b7ff33e_0f6d_11ea_adce_8c859073f641row1_col4 {\n",
       "            width:  150px;\n",
       "        }    #T_8b7ff33e_0f6d_11ea_adce_8c859073f641row2_col0 {\n",
       "            width:  150px;\n",
       "        }    #T_8b7ff33e_0f6d_11ea_adce_8c859073f641row2_col1 {\n",
       "            width:  150px;\n",
       "        }    #T_8b7ff33e_0f6d_11ea_adce_8c859073f641row2_col2 {\n",
       "            width:  150px;\n",
       "        }    #T_8b7ff33e_0f6d_11ea_adce_8c859073f641row2_col3 {\n",
       "            width:  150px;\n",
       "        }    #T_8b7ff33e_0f6d_11ea_adce_8c859073f641row2_col4 {\n",
       "            width:  150px;\n",
       "        }</style><table id=\"T_8b7ff33e_0f6d_11ea_adce_8c859073f641\" ><thead>    <tr>        <th class=\"blank level0\" ></th>        <th class=\"col_heading level0 col0\" colspan=5>regions</th>    </tr>    <tr>        <th class=\"index_name level1\" >traits</th>        <th class=\"col_heading level1 col0\" >2</th>        <th class=\"col_heading level1 col1\" >6</th>        <th class=\"col_heading level1 col2\" >10</th>        <th class=\"col_heading level1 col3\" >14</th>        <th class=\"col_heading level1 col4\" >18</th>    </tr>    <tr>        <th class=\"index_name level0\" >features</th>        <th class=\"blank\" ></th>        <th class=\"blank\" ></th>        <th class=\"blank\" ></th>        <th class=\"blank\" ></th>        <th class=\"blank\" ></th>    </tr></thead><tbody>\n",
       "                <tr>\n",
       "                        <th id=\"T_8b7ff33e_0f6d_11ea_adce_8c859073f641level0_row0\" class=\"row_heading level0 row0\" >2</th>\n",
       "                        <td id=\"T_8b7ff33e_0f6d_11ea_adce_8c859073f641row0_col0\" class=\"data row0 col0\" >3.2</td>\n",
       "                        <td id=\"T_8b7ff33e_0f6d_11ea_adce_8c859073f641row0_col1\" class=\"data row0 col1\" >12</td>\n",
       "                        <td id=\"T_8b7ff33e_0f6d_11ea_adce_8c859073f641row0_col2\" class=\"data row0 col2\" >30</td>\n",
       "                        <td id=\"T_8b7ff33e_0f6d_11ea_adce_8c859073f641row0_col3\" class=\"data row0 col3\" >44</td>\n",
       "                        <td id=\"T_8b7ff33e_0f6d_11ea_adce_8c859073f641row0_col4\" class=\"data row0 col4\" >63.4</td>\n",
       "            </tr>\n",
       "            <tr>\n",
       "                        <th id=\"T_8b7ff33e_0f6d_11ea_adce_8c859073f641level0_row1\" class=\"row_heading level0 row1\" >6</th>\n",
       "                        <td id=\"T_8b7ff33e_0f6d_11ea_adce_8c859073f641row1_col0\" class=\"data row1 col0\" >1</td>\n",
       "                        <td id=\"T_8b7ff33e_0f6d_11ea_adce_8c859073f641row1_col1\" class=\"data row1 col1\" >1</td>\n",
       "                        <td id=\"T_8b7ff33e_0f6d_11ea_adce_8c859073f641row1_col2\" class=\"data row1 col2\" >1.4</td>\n",
       "                        <td id=\"T_8b7ff33e_0f6d_11ea_adce_8c859073f641row1_col3\" class=\"data row1 col3\" >1.6</td>\n",
       "                        <td id=\"T_8b7ff33e_0f6d_11ea_adce_8c859073f641row1_col4\" class=\"data row1 col4\" >4.2</td>\n",
       "            </tr>\n",
       "            <tr>\n",
       "                        <th id=\"T_8b7ff33e_0f6d_11ea_adce_8c859073f641level0_row2\" class=\"row_heading level0 row2\" >10</th>\n",
       "                        <td id=\"T_8b7ff33e_0f6d_11ea_adce_8c859073f641row2_col0\" class=\"data row2 col0\" >1</td>\n",
       "                        <td id=\"T_8b7ff33e_0f6d_11ea_adce_8c859073f641row2_col1\" class=\"data row2 col1\" >1</td>\n",
       "                        <td id=\"T_8b7ff33e_0f6d_11ea_adce_8c859073f641row2_col2\" class=\"data row2 col2\" >1</td>\n",
       "                        <td id=\"T_8b7ff33e_0f6d_11ea_adce_8c859073f641row2_col3\" class=\"data row2 col3\" >1</td>\n",
       "                        <td id=\"T_8b7ff33e_0f6d_11ea_adce_8c859073f641row2_col4\" class=\"data row2 col4\" >1</td>\n",
       "            </tr>\n",
       "    </tbody></table>"
      ],
      "text/plain": [
       "<pandas.io.formats.style.Styler at 0x10e863208>"
      ]
     },
     "metadata": {},
     "output_type": "display_data"
    }
   ],
   "source": [
    "s1.regions_table(100)"
   ]
  },
  {
   "cell_type": "markdown",
   "metadata": {},
   "source": [
    "# Průběh simulace\n",
    "\n",
    "_Na nějakém menším modelu ukázat i průběh celé simulace (něco jako ten animovanej gif). Axelrod popisuje zóny a regiony a vykresluje do grafu průběh takové simulace, viz str.218_"
   ]
  },
  {
   "cell_type": "markdown",
   "metadata": {},
   "source": [
    "# Výsledky\n",
    "\n",
    "Model ukazuje že rozdíly mezi jedinci nebo skupinami mohou být trvalejší, přes tendenci ke konvergenci. Předpoklad k tomuto chování je to, že příležitost k interakci a konvergence je proporcionálně úměrná k počtu sdílených features mezi sousedy.\n",
    "\n",
    "Stupeň polarizace je vyjádřen počtem rozdílných kulturních regiónů v případě, že už žádná interakce není možná. Výsledky pak ukazují, že se polarizace zvětšuje pro kultury menší dimenze (méně features) s mnoha možnými hodnotami (traits). Oproti předchozím modelům stejného problému je rozdíl v tom, že tyto uvažovali jednotlivé features buď jako spojitou veličinu, nebo naopak jako binární (pouze 2 možnosti). Oba takové modely konvergují k equilibriu, kdy buď celá společnost má shodné vlastnosti a tvoří tak jedinou kulturu, nebo maximálně 2. Abychom zachovali kulturní rozmanitost, musí mít kultura více vlastností a každá z nich více než dvě hodnoty.\n",
    "\n",
    "Takový model pak ilustruje následující závěry:\n",
    "\n",
    "- lokální konvergence může vést ke globální polarizaci\n",
    "- jak tohle přeložit? viz str 223\n",
    "- i jednoduchá změna parametrů může znamenat neintiutivní výsledky. V našem modelu je to ukázáno na tom, kdy velké spolčnosti generují překvapivě malou polarizaci.\n"
   ]
  },
  {
   "cell_type": "markdown",
   "metadata": {
    "toc-hr-collapsed": false
   },
   "source": [
    "# Algebraizace modelu\n",
    "\n",
    "\n",
    "- Markovův řetězec - vysvětlit - neefektivnost - (https://cs.wikipedia.org/wiki/Markovův_řetězec)\n",
    "\n",
    "\n",
    "\n",
    "Neexistuje standard, podle kterého bychom ABM mohli popsat matematicky, většinou s modely studují pomocí simulací. Ty jsou velmi efektivní pro malé modely, pro velké je to již problmatické kvůli výpočetní výkonosti. Grimm a kol. navrhli ODD protocol (Overview, Design concepts, Details), který takové modely umí popsat. Na základě tohoto popisu navrhl kolektiv (citát) rozšíření nad ODD protokol, které deterministické ABM umí popsat jako časově-diskrétní dynamické systémy s algebraickou strukturou na konečných stavovém prostoru. V takovémto modleu lze řešit stabilní stavy pomocí soustavy polynomiálních rovnic.\n",
    "\n",
    "Stav systému může být popsán jako vektor hodnot, jeden pro každou modelovou proměnnou (agenta). Funkcí $f$ (deterministickou nebo stochastickou) pak definujeme přechod z jednoho stavu do druhého. Dynamika systému je definována iteracemi přes funkci $f$. ODD pak definuje standardní šablonu na spefikaci stavového prostoru a přechodové funkce $f$.\n",
    "\n",
    "Jak získáme stavovový prostor? Potřebujeme takový, který splňuje axionmy sčítání a násobení, tak aby tvořil konečné těleso. Na jednoduchém boolovském prostoru to bude např. $\\mathbb{F}_2 = \\{0,1\\}$.\n",
    "\n",
    "Nechť jsou proměnné (agenti) $x_1,\\dots,x_n$ takové, jejichž stav je z $\\mathbb{F}$. Definujeme lokální přechodovou funkci $f_i : \\mathbb{F^n} \\longrightarrow \\mathbb{F}$. Funkce je lokální,  protože vstupem jsou stavy sousedních agentů. Dynamický systém pak můžeme popsat funkcí $$f = (f_1,\\dots,f_n): \\mathbb{F^n} \\longrightarrow \\mathbb{F^n}.$$\n",
    "\n",
    "Popis:\n",
    "\n",
    "Stavové proměnné (agenti) $x_1,\\dots,x_n$. nebere v tuto chvíli v úvahu žádné uspořádání do sítě, nebo groupování apod.\n",
    "\n",
    "Každá stavová proměnná $x_i$ má množinu možných stavů $X$. Proto stav celého modelu  je popsán kartézským součinem $X = X_1 \\times \\dots \\times X_n$.\n",
    "\n",
    "Každé stavové proměnné $x_i$ je přiřazena konečná množina pravidel, jak mění svůj stav. A to pravidel deterministických, nebo stochastických.\n",
    "\n",
    "Definujme funkci $f_i : X \\longrightarrow X$ na změnu stavu jedné stavové proměnné. Celý model pak můžeme reprezentovat jako diskrétní dynamický systém pomocí vektorové funkce $f = (f_1, \\dots ,f_n): X \\longrightarrow X$. Pokud se nám podaří reprezentovat stavový prostor jako těleso, lze psát $$f = (f_1,\\dots,f_n): \\mathbb{F^n} \\longrightarrow \\mathbb{F^n},$$ kde všechny $f_i \\in \\mathbb{F}[x_1, \\dots , x_n]$ jsou polynomy. \n",
    "\n",
    "Co jsm tedy dosáhli:\n",
    "\n",
    "- modely jsou popsány matematicky\n",
    "- modely můžeme řešit pomocí standardních algebraických nástrojů (polynomiální rovnic)\n",
    "- modely můžeme snadno porovnávat\n",
    "\n",
    "I když jde poměrně velká část ABM modelů řešit tímto způsobem, záleží hodně na velikosti sítě, komplexnosti přechodové funkce $f$ a v neposlední řadě i výkonosti dostupného hardwaru, jestli jsme schopni model \"upočítat\". Nové postupy v řešení soustavy polynomiálních rovnic tomu napomáhají.\n",
    "\n",
    "__Příklad: Conway's Game of Life__\n",
    "\n",
    "Máme čtvercovou síť (mřížku) buňek (agentů), které nabývají jednoho ze dvou stavů. Buď LIVE (1) nebo DEAD (0). Každá buňka má 8 sousedů (vlevo/vpravo, nahoře/dol, diagonálně). Model se řídí následujícími pravidly:\n",
    "\n",
    "1. každá živá buňka s méně než 2 živými sousedy umírá\n",
    "2. každá živá buňka s více než 3 živými sousedy umírá\n",
    "3. každá živá buňka s 2 nebo 3 živými sousedy zůstává naživu\n",
    "4. každá mrtvá buňka s přesně 3 živými sousedy obživne\n",
    "\n",
    "Protož máme jen 2 možné stavy, lze stavový prostor popsat velmi snadno jako $\\mathbb{F}_2$. Každý agent $x$ má 8 sousedů $x_1, \\dots, x_8$. Můžeme proto definovat funkci \n",
    "$$f_x(x,x_1,\\dots,x_8)= \\begin{cases} 0 : \\sum x_i < 2 \\\\ 0 : \\sum x_i = 2 \\text{ a } x = 0 \\\\ 1 : \\sum x_i = 2 \\text{ a } x = 1 \\\\ 1 : \\sum x_i = 3 \\\\ 0 : \\sum x_i > 3\\end{cases}.$$\n",
    "\n",
    "Algebraický model pro Game of Life má pak tvar \n",
    "$$f = (f, \\dots, f_{n \\times n}):\\mathbb{F}_2^{n \\times n} \\longrightarrow \\mathbb{F}_2^{n \\times n},$$\n",
    "$$x_i \\mapsto f_i(x_1, \\dots, x_{n \\times n}),$$\n",
    "kde $n$ je dimenze čvercové mříčky. Abychom našli všechny stabilní stavy modelu, můsíme vyřešit soustavu polynomiálních rovnic\n",
    "$$f_i(x) - x_i = 0, \\; i=1\\dots n \\times n.$$\n",
    "\n",
    "Na mřížce $4 \\times 4$ je celkem $2^{16} = 65536$ stavů. model je posán 16 rovnicemi. To lze vyřšit poměrně snadno. Pro větší mřížky stavový prostor rychle narůstá a stejně tak i počet rovnic."
   ]
  },
  {
   "cell_type": "markdown",
   "metadata": {},
   "source": [
    "# Ukázat něco v Mesa ???\n",
    "\n",
    "Možná bychom mohli jen ukázat tutorial od Mesa, jak se to taky můž dělat jinak."
   ]
  },
  {
   "cell_type": "markdown",
   "metadata": {},
   "source": [
    "\n",
    "# Poznámky\n",
    "\n",
    "_Pro každej model ukázat strukturu, pak algoritmus řešení, nějaké vzorečky (pokud existují) na konvergenci a nakonec nějaké výsledky._\n",
    "\n",
    "_Obecné otázky:_\n",
    "\n",
    "- _pro jak velké modely (počet agentů) je ABM vhodné?_\n",
    "- _jak řešit větší modely?_\n",
    "\n"
   ]
  },
  {
   "cell_type": "markdown",
   "metadata": {},
   "source": [
    "# Literatura\n",
    "\n",
    "[1] Axelrod R, (1997) The dissemination of culture - A model with local\tconvergence and global polarization. Journal of Conflict Resolution 41(2), pp. 203-226.\n",
    "\n",
    "[2] Watts, D., Strogatz, S. (1998) Collective dynamics of ‘small-world’ networks. Nature 393, 440–442  doi:10.1038/30918"
   ]
  },
  {
   "cell_type": "code",
   "execution_count": null,
   "metadata": {},
   "outputs": [],
   "source": []
  }
 ],
 "metadata": {
  "kernelspec": {
   "display_name": "Python 3",
   "language": "python",
   "name": "python3"
  },
  "language_info": {
   "codemirror_mode": {
    "name": "ipython",
    "version": 3
   },
   "file_extension": ".py",
   "mimetype": "text/x-python",
   "name": "python",
   "nbconvert_exporter": "python",
   "pygments_lexer": "ipython3",
   "version": "3.6.4"
  },
  "toc-autonumbering": false,
  "toc-showcode": false,
  "toc-showmarkdowntxt": false,
  "toc-showtags": false
 },
 "nbformat": 4,
 "nbformat_minor": 4
}
