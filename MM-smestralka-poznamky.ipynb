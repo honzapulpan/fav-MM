{
 "cells": [
  {
   "cell_type": "markdown",
   "metadata": {},
   "source": [
    "# Poznámky:\n",
    "\n",
    "- jak oslovovat Kalvase? PhDr Kalvas? Pan Kalvas? František Kalvas?\n",
    "- co očekává Kalvas? že to konverguje nebo nekonverguje? Při jakejch parametrech?\n",
    "- Scott Page - jiné vyhodnocování interakce/pravděpodobnost interakce xx\n",
    "- reprezentace globální cultural similarity - nejspíš pomocí stejné matice jako matice sousdnosti, jen místo 1 bude procento similarity --> cílem je získat matici jn se samejma 0 a 1 (případně -1 na diagonále\n",
    "- musíme vyřešit vykreslování\n",
    "    - sítě - podle matice sousdnosti \n",
    "    - global cultural similarity - pomocí její matice - obarvovat hrany???\n",
    "    - nějaká animace průchodu simulací, nebo jen nějaké mezistavy"
   ]
  },
  {
   "cell_type": "markdown",
   "metadata": {},
   "source": [
    "- agent = vektor features f, každá f má traits k\n",
    "- similarity agentů - odečíst od sebe a zjisti nnulové prvky vektoru\n",
    "- vstupní parametry - počet agntů, počet fetures, počet traits pro každou z fetures, počet kroků algoritmu (nebo až do konvergnce?)\n",
    "- vyhodnocování global cultural similarity - zajímá nás, jestli jsou v matici jen prvky 0,1,-1, nebo možná i něco co se 0 nebo 1 blíží"
   ]
  },
  {
   "cell_type": "markdown",
   "metadata": {},
   "source": [
    "- matice sousednosti bude mít nějakou hezkou strukturu pro danou síť - připravit několik matic pro různé sítě. Nejlép pak funkc, ktré vytvoří síť pro daný počet N agentů\n",
    "- jak vyhodnocovat matici global cultural similarity? - nějak rychle. Chce to nějakou hodně rychlou operaci, která nám řekne, jestli tam jsou jen 0 a 1 ???"
   ]
  },
  {
   "cell_type": "code",
   "execution_count": null,
   "metadata": {},
   "outputs": [],
   "source": []
  }
 ],
 "metadata": {
  "kernelspec": {
   "display_name": "Python 3",
   "language": "python",
   "name": "python3"
  },
  "language_info": {
   "codemirror_mode": {
    "name": "ipython",
    "version": 3
   },
   "file_extension": ".py",
   "mimetype": "text/x-python",
   "name": "python",
   "nbconvert_exporter": "python",
   "pygments_lexer": "ipython3",
   "version": "3.6.4"
  },
  "toc": {
   "base_numbering": 1,
   "nav_menu": {},
   "number_sections": false,
   "sideBar": true,
   "skip_h1_title": false,
   "title_cell": "Table of Contents",
   "title_sidebar": "Contents",
   "toc_cell": false,
   "toc_position": {},
   "toc_section_display": true,
   "toc_window_display": false
  }
 },
 "nbformat": 4,
 "nbformat_minor": 2
}
