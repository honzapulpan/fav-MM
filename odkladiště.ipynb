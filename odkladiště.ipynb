{
 "cells": [
  {
   "cell_type": "code",
   "execution_count": null,
   "metadata": {},
   "outputs": [],
   "source": [
    "%%time\n",
    "#### generování souboru small_world.csv se spoustou simulací\n",
    "##### pozor, tohle běží asi 12 hodin!!!!\n",
    "\n",
    "\n",
    "import csv\n",
    "import numpy as np\n",
    "\n",
    "A = [int(x)**2 for x in np.logspace(.7, 1.2, num=6)] #[x**2 for x in range(4,11)]\n",
    "F = [x for x in range(2,11,4)]\n",
    "T = [x for x in range(2,19,4)]\n",
    "\n",
    "SIM_CNT = 5\n",
    "\n",
    "with open('small_world.csv', mode='w') as small_world_file:\n",
    "    small_world_writer = csv.writer(small_world_file, delimiter=',', quotechar='\"', quoting=csv.QUOTE_MINIMAL)\n",
    "    small_world_writer.writerow(['agents','features','traits','regions','usediter','non_zero_edges'])\n",
    "\n",
    "    for a in A:\n",
    "        for f in F:\n",
    "            for t in T:\n",
    "                for i in range(SIM_CNT):\n",
    "                    c1 = Culture(a, 0, f, t, 500000)\n",
    "                    c1.simulate()\n",
    "                    #print(f'A: {a} - F: {f} - T: {t} - regions: {c1.regions} - usediter: {c1.usediter} - non_zero_edges: {c1.non_zero_edges}')\n",
    "                    small_world_writer.writerow([a,f,t,c1.regions,c1.usediter,c1.non_zero_edges])\n",
    "                    del c1    "
   ]
  },
  {
   "cell_type": "markdown",
   "metadata": {},
   "source": [
    "Do prezentace vložit animaci:\n",
    "\n",
    "![Axelrodmodel](axelrod_model.gif \"Axelrodův model na mřížce\")"
   ]
  },
  {
   "cell_type": "markdown",
   "metadata": {},
   "source": [
    "---\n",
    "# ASI NEZAHRNEM\n",
    "\n",
    "# Voters model ???\n",
    "\n",
    "- jen základní popis, nic programovat nebudem. Ale v další kapitole se to může k tomuto modelu porovnávat.\n",
    "- základní jednoduchý model \n",
    "- vše závisí na systému interakce (náhodný vs průměr)\n",
    "- pro daný systém interakce agentů konverguje v konečném čase (viz ten paper z TSI)\n",
    "\n",
    "# Model CVM ???\n",
    "\n",
    "- viz paper od Kalvase\n",
    "- zase jen základní popis, jde o to popsat nějaký další alternativní model\n",
    "- konverguje lineárně atd. Daj se napsat i nějaké vzorečky"
   ]
  },
  {
   "cell_type": "markdown",
   "metadata": {},
   "source": [
    "Pár dalších poznámek:\n",
    "\n",
    "- pročíst tohle: http://jasss.soc.surrey.ac.uk/12/1/6/appendixB/Axelrod1997.html\n",
    "- model se dá interpretovat jako časově homogenní Markovův chain (pravděpodobnost přechodu z jednoho stavu do jiného nezávisí na čase) (https://cs.wikipedia.org/wiki/Markovův_řetězec)\n",
    "- stav celého systému agntů se dá popsat polem $L \\times L$ kde každý element reprezentuje jednoho agenta a jeho kulturní vektor. Celkové množství všech možných stavů je $q^{fL^2}$ kde $q$ je počet traits, $f$ je počet features a $L^2$ je počet agentů ve čtvercové mřížce (to číslo je strašně veliké - _uvést nějaký konkrétní příklad jak je velké_).\n",
    "- matice pravděpdobnostního přechodu - přechod z jednoho stavu do druhého (matice takto veliká je poměrně problematická). \n",
    "- přechod mezi dvěma stavy $i$ a $j$ a jeho pravděpodobnost\n",
    "    - pokud každý pár agentů má kulturní vektor se všemi sousedy buď kompletně shodný nebo úplně rozdílný, potom je stav $i$ absorbující a pravděpodobnost přechodu je $p_{i,i}=1$ a $p_{i,j}=0$\n",
    "    - pokud existují alespoň 2 sousední agenti, kteří mají alespoň jednu feature shodnou, ale jejich kulturní vektor není identický, potom $p_{i,i} < 1$. Pokud vypočteme $p_{i,j}$, můžem snadno dopočítat i $p_{i,i}$, protože součet prvků na řádku matice pravděpodobnostního přchodu je roven $1$. Označme $H_{ij}$ je množiu agentů, sousedů agenta $k$, kteří mají trait, který $k$ převezme při přechodu ze stavu $i$ do stavu $j$. Označmě $h_{ij}$ kardinalitu množiny $H_{ij}$. Potom pro $p_{i,j}$, $i \\neq j$ platí:\n",
    "$$p_{i,j}=\\frac{1}{L^2h_{i,j}} \\sum_{reH_{ij}} \\frac{n_{kr}}{f} \\frac{1}{f-n_{kr}}$$. "
   ]
  },
  {
   "cell_type": "markdown",
   "metadata": {},
   "source": [
    "-----\n",
    "\n",
    "Zajímavá je informace o počtu iterací potřebných k dosažení ekvilibria v závislosti na počtu features a traits. Ta je uvedena v následující tabulce.\n",
    "\n",
    "Stejně jako v případě mřížky i pro malý svět sestavíme tabulku závislosti počtu iterací k dosažení ekvilibria pro různé hodnoty features a traits."
   ]
  },
  {
   "cell_type": "code",
   "execution_count": null,
   "metadata": {},
   "outputs": [],
   "source": [
    "s1.usediter_table(100)\n",
    "s2.usediter_table(100)"
   ]
  },
  {
   "cell_type": "code",
   "execution_count": null,
   "metadata": {},
   "outputs": [],
   "source": [
    "## Úvod\n",
    "\n",
    "Cílem práce je pomocí __metody konečných diferencí__ aproximovat řešení okrajové úlohy\n",
    "$$\n",
    "-p\\,u''(x)+q\\,u'(x)=f(x)\\mbox{, pro }x\\in (0,1),\n",
    "$$\n",
    "\n",
    "$$\n",
    "u(0)=\\alpha,\\; u(1)=\\beta,\n",
    "$$\n",
    "\n",
    "kde $ p>0,\\, q,\\, \\alpha,\\,\\beta \\in \\mathbb{R} $ jsou libovolně zvolené konstanty a $ f(x) $ je libovolně zvolená funkce definovaná na $ x\\in (0,1). $\n",
    "\n",
    "Úlohu řešíme pomocí programovacího jazyka Python, s využitím knihovny Scipy, ze které kvůli časové náročnosti výpočtu lineárních soustav rovnic využíváme řídké matice. Bla bla..."
   ]
  },
  {
   "cell_type": "markdown",
   "metadata": {},
   "source": [
    "- pro jak velké modely (počet agentů) je ABM vhodné?\n",
    "- jak řešit větší modely?\n",
    "- výsledky pro mřížku nebo malý svět se nelyší, proto nemá cenu s malým světem počítat (je náročný). Ověřit ještě tady: Nonequilibrium transitions in complex networks.pdf"
   ]
  }
 ],
 "metadata": {
  "kernelspec": {
   "display_name": "Python 3",
   "language": "python",
   "name": "python3"
  },
  "language_info": {
   "codemirror_mode": {
    "name": "ipython",
    "version": 3
   },
   "file_extension": ".py",
   "mimetype": "text/x-python",
   "name": "python",
   "nbconvert_exporter": "python",
   "pygments_lexer": "ipython3",
   "version": "3.6.4"
  }
 },
 "nbformat": 4,
 "nbformat_minor": 4
}
