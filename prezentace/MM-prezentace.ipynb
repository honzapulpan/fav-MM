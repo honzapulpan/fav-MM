{
 "cells": [
  {
   "cell_type": "markdown",
   "metadata": {
    "slideshow": {
     "slide_type": "slide"
    }
   },
   "source": [
    "#### Západočeská univerzita v Plzni\n",
    "# Agent-based-modeling a \n",
    "# Axelrodův model šíření kultury\n",
    "\n",
    " \n",
    "<br>\n",
    "<br>\n",
    "<br>\n",
    "\n",
    "## Semestrální práce KMA/MM\n",
    "\n",
    "__Anežka Švandová, Jan Půlpán__\n",
    "\n"
   ]
  },
  {
   "cell_type": "markdown",
   "metadata": {
    "slideshow": {
     "slide_type": "slide"
    }
   },
   "source": [
    "## Co je Agent-based-modeling (ABM)\n",
    "\n",
    "- metoda simulace chování \"společenství\" agentů\n",
    "- agentem rozumíme samostatnou entitu, jejíž chování určují sousední agenti případně i okolní prostředí"
   ]
  },
  {
   "cell_type": "markdown",
   "metadata": {
    "slideshow": {
     "slide_type": "slide"
    }
   },
   "source": [
    "## Propojení agentů\n",
    "\n",
    "- agenti jsou propojeni do sítě\n",
    "- různé typy sítí: mřížka, malý svět, náhodný graf apod. \n",
    "\n",
    "|Mřížka | Malý svět|\n",
    "|:---:|:---:|\n",
    "|![alt](mrizka.png) | ![alt](small_world.png)|\n",
    "\n",
    "- v rámci sítě mohou agenti i cestovat"
   ]
  },
  {
   "cell_type": "markdown",
   "metadata": {
    "slideshow": {
     "slide_type": "slide"
    }
   },
   "source": [
    "## Co je Agent-based-modeling (ABM)\n",
    "\n",
    "\n",
    "- ABM zkoumá kromě ekvilibria (klidových stavů) i vývoj celého systému\n",
    "- modelování odspoda nahoru - z chování jednotlivých agentů odvozujeme chování systému"
   ]
  },
  {
   "cell_type": "markdown",
   "metadata": {
    "slideshow": {
     "slide_type": "slide"
    }
   },
   "source": [
    "## Obecná implementace\n",
    "\n",
    "- lze popsat pomocí Markovova procesu, případně řetězce - jen pro malé sítě\n",
    "- nejčastěji se zkoumá pomocí simulací\n",
    "- existují nástroje: NetLogo, Repast, MASON, Mesa\n",
    "\n",
    "\n"
   ]
  },
  {
   "cell_type": "markdown",
   "metadata": {
    "slideshow": {
     "slide_type": "slide"
    }
   },
   "source": [
    "## Obecná implementace\n",
    "\n",
    "- simulace probíhá v diskrétním čase po jednotlivých iteracích\n",
    "- síť je reprezentována neorientovaným grafem \n",
    "- vrcholy = agenti, hrany = jejich propojení\n",
    "- výpočetní čas může být extrémní, záleží na implementaci a také typu sítě\n",
    "- my jsme zvolili obecnou a proto pomalou implementaci"
   ]
  },
  {
   "cell_type": "markdown",
   "metadata": {
    "slideshow": {
     "slide_type": "slide"
    }
   },
   "source": [
    "## Axelrodův model šíření kultur [1]\n",
    "\n",
    "> “If people tend to become more alike in their beliefs, attitudes, and behavior when they interact, why do not all such a differences eventually dissapear?”\n",
    "\n",
    "\n",
    "- agenti jsou popsáni seznamem features a jejich možných traits\n",
    "- dimenzi kultury (počet features) značímě $F$\n",
    "- počet traits $q$\n",
    "- agenti jsou uspořádáni do mřížky\n",
    "- každý kromě krajních má 4 sousedy\n",
    "\n",
    "<br>\n",
    "<br>\n",
    "\n",
    "<sup> [1] Axelrod R, (1997) The dissemination of culture - A model with local\tconvergence and global polarization. Journal of Conflict Resolution 41(2), pp. 203-226.</sup>"
   ]
  },
  {
   "cell_type": "markdown",
   "metadata": {
    "slideshow": {
     "slide_type": "notes"
    }
   },
   "source": [
    "Features (česky vlastnosti) - např. jazyk, náboženství, styl oblékání\n",
    "\n"
   ]
  },
  {
   "cell_type": "markdown",
   "metadata": {
    "slideshow": {
     "slide_type": "slide"
    }
   },
   "source": [
    "## Axelrodův model šíření kultur\n",
    "\n",
    "- síť inicializujeme náhodnými hodnotami z uniformního diskrétního rozdělení\n",
    "$$ X(x) = [X^1(x), X^2(x), \\dots , X^F(x)] \\text{, kde } X^i(x) \\in \\{1,2,\\dots,q\\}$$ \n",
    "$$\\text{ pro } i=1,2,\\dots,F.$$\n",
    "- sousední agenti interagují s pravděpodobností dannou funkcí similarity\n",
    "\n",
    "$$ f(x,y) = \\frac{1}{F} \\sum_{i=1}^F \\delta_{X^i(x), \\, X^i(y)}, \\; \\text{ kde } \\; \\delta_{k, l} = \\begin{cases} 0 \\text{ pro } k \\neq l \\\\ 1 \\text{ pro } k = l \\end{cases}$$\n",
    "\n",
    "\n",
    "\n"
   ]
  },
  {
   "cell_type": "markdown",
   "metadata": {
    "slideshow": {
     "slide_type": "notes"
    }
   },
   "source": [
    "- f(x,y) = 0 znamená že nemají nic společného\n",
    "- f(x,y) = 1 znamená že nemají všechno společné a nemají co synchronizovat"
   ]
  },
  {
   "cell_type": "markdown",
   "metadata": {
    "slideshow": {
     "slide_type": "slide"
    }
   },
   "source": [
    "## Axelrodův model šíření kultur\n",
    "\n",
    "Opakuj pokud je možná interakce, nebo není dosaženo maximálního počtu iterací:\n",
    "\n",
    "1. Vyber náhodně aktivního agenta $x$ a jeho náhodného souseda $y$\n",
    "2. Agenti interagují s pravděpodobností $f(x,y)$. Pokud interagují, předá soused $y$ aktivnímu agentovi $x$ jednu náhodně vybranou vlastnost $X^i$, ve které se neshodují.\n",
    "\n",
    "Agenti neinteragují pokud $f(x,y)=0$ nebo $f(x,y)=1$\n",
    "\n",
    "<center><img src='axelrod_model.gif'></center>\n",
    "\n"
   ]
  },
  {
   "cell_type": "markdown",
   "metadata": {
    "slideshow": {
     "slide_type": "slide"
    }
   },
   "source": [
    "## Axelrodův model šíření kultur\n",
    "\n",
    "- simulace vytváří __kulturní regiony__ \n",
    "    - skupiny sousedních agentů s $f(x,y)=1$\n",
    "\n",
    "\n",
    "__Dospěje model k jednotné kultuře? Na čem je to závislé?__\n"
   ]
  },
  {
   "cell_type": "markdown",
   "metadata": {
    "slideshow": {
     "slide_type": "slide"
    }
   },
   "source": [
    "## Simulace\n",
    "\n",
    "- jednoduchá knihovna v Pythonu\n",
    "- implementuje mřížku a malý svět (včetně náhodných propojení)\n",
    "- síť popisujeme maticí sousednosti $M_{adj}$, stav modelu pomocí matice global similarity $M_{gs}$\n",
    "- je poměrně pomalá"
   ]
  },
  {
   "cell_type": "markdown",
   "metadata": {
    "slideshow": {
     "slide_type": "notes"
    }
   },
   "source": [
    "- $M_{adj}$ ... 1, pokud jsou agenti sousedé\n",
    "- $M_{gs}$ ... obsahuje hodnoty funkce similarity pro všechny sousední agenty"
   ]
  },
  {
   "cell_type": "markdown",
   "metadata": {
    "slideshow": {
     "slide_type": "slide"
    }
   },
   "source": [
    "## Simulace"
   ]
  },
  {
   "cell_type": "code",
   "execution_count": 1,
   "metadata": {
    "slideshow": {
     "slide_type": "fragment"
    }
   },
   "outputs": [
    {
     "name": "stdout",
     "output_type": "stream",
     "text": [
      "Počet agentů: 16 (f:5, t:5)\n",
      "Počet všech propojení: 64\n",
      "Počet propojení která mohou interagovat (0 < similarity < 1): 0\n",
      "Počet komponent/kultur: 1\n",
      "\n",
      "Maximální počet iterací: 50000\n",
      "Model konvergoval v 618 iteracích\n",
      "\n",
      "\n"
     ]
    }
   ],
   "source": [
    "from culture import Culture, Simulation\n",
    "\n",
    "c1 = Culture(16, 0, 5, 5, 50000, random_con=False)\n",
    "c1.simulate(save_progress=200)\n",
    "c1.analyze()"
   ]
  },
  {
   "cell_type": "markdown",
   "metadata": {
    "slideshow": {
     "slide_type": "slide"
    }
   },
   "source": [
    "## Simulace\n",
    "\n",
    "|200 iterací | 400 iterací|\n",
    "|:---:|:---:|\n",
    "|![alt](sim_200.png) | ![alt](sim_400.png)|\n",
    "\n",
    "---\n",
    "\n",
    "|600 iterací | ekvilibrium |\n",
    "|:---:|:---:|\n",
    "|![alt](sim_600.png) | ![alt](sim_final.png)|"
   ]
  },
  {
   "cell_type": "markdown",
   "metadata": {
    "slideshow": {
     "slide_type": "slide"
    }
   },
   "source": [
    "## Počet stabilních regionů\n",
    "\n",
    "Na čem je závislý počet stabilních regionů?\n",
    "\n",
    "- dělali jsme sadu simulací s parametry:\n",
    "    - počet features $F$\n",
    "    - počet traits $q$\n",
    "    - velikost sítě (počet agentů)\n",
    "    - tvar sítě (mřížka vs. malý svět)"
   ]
  },
  {
   "cell_type": "markdown",
   "metadata": {
    "slideshow": {
     "slide_type": "slide"
    }
   },
   "source": [
    "## Počet features $F$ a traits $q$"
   ]
  },
  {
   "cell_type": "code",
   "execution_count": 9,
   "metadata": {
    "scrolled": false,
    "slideshow": {
     "slide_type": "fragment"
    }
   },
   "outputs": [
    {
     "data": {
      "image/png": "[encoded data removed]",
      "text/plain": [
       "<Figure size 720x360 with 1 Axes>"
      ]
     },
     "metadata": {},
     "output_type": "display_data"
    }
   ],
   "source": [
    "sQ1=Simulation(a_cnt=[25,],t_cnt=[3,5,10,20,25,30,35,40,42,44,46,48,50,60,80,100,300,500,1000],\n",
    "               c_net=1,f_cnt=[5,20,50],sim_cnt=10,maxiter=100000,file='simul_q25_mrizka.csv')\n",
    "sQ1.traits_regs_plot(a_cnt=25, f_cnt=20)"
   ]
  },
  {
   "cell_type": "markdown",
   "metadata": {
    "slideshow": {
     "slide_type": "fragment"
    }
   },
   "source": [
    "__Od určitého kritického bodu $q_c$ počet regionů roste, až každý agent vytvoří svůj vlastní region.__"
   ]
  },
  {
   "cell_type": "markdown",
   "metadata": {
    "slideshow": {
     "slide_type": "slide"
    }
   },
   "source": [
    "## Velikost sítě\n"
   ]
  },
  {
   "cell_type": "code",
   "execution_count": 27,
   "metadata": {
    "slideshow": {
     "slide_type": "fragment"
    }
   },
   "outputs": [
    {
     "data": {
      "image/png": "[encoded data removed]",
      "text/plain": [
       "<Figure size 720x360 with 1 Axes>"
      ]
     },
     "metadata": {},
     "output_type": "display_data"
    }
   ],
   "source": [
    "s1 = Simulation(a_cnt=[25, 36, 49, 100, 144, 225], c_net=1,\n",
    "               f_cnt=[2, 6, 10], t_cnt=[2, 6, 10, 14, 18],\n",
    "               sim_cnt=5, maxiter=500000, file='simulations_lattice.csv')\n",
    "\n",
    "s1.agents_regs_plot(6,14)"
   ]
  },
  {
   "cell_type": "markdown",
   "metadata": {
    "slideshow": {
     "slide_type": "fragment"
    }
   },
   "source": [
    "__Počet stabilních regionů klesá s rostoucí velikostí sítě.__"
   ]
  },
  {
   "cell_type": "markdown",
   "metadata": {
    "slideshow": {
     "slide_type": "slide"
    }
   },
   "source": [
    "## Výsledky\n",
    "\n",
    "- stupeň polarizace = počet rozdílných kulturních regionů\n",
    "- polarizace se zvětšuje pro kultury menší dimenze s velkým rozsahem traits\n",
    "     - _Toto ukazuje, že složitější rozdíly, které by se měly vyřešit sociální interakcí jsou ty, kde problémů je málo, ale je hodně možností jak je vyřešit._\n",
    "- polarizace se snižuje pro větší sítě"
   ]
  },
  {
   "cell_type": "markdown",
   "metadata": {
    "slideshow": {
     "slide_type": "slide"
    }
   },
   "source": [
    "## Výsledky\n",
    "\n",
    "- výsledky se výrazně neliší pro mřížku nebo malý svět\n",
    "    - v obou se projevuje vliv kritického bodu $q_c$ na polarizaci\n",
    "    - u malého světa pokud roste podíl náhodných vzdálených propojení, roste i $q_c$\n",
    "    - malý svět tíhne více ke globalizaci"
   ]
  },
  {
   "cell_type": "markdown",
   "metadata": {
    "slideshow": {
     "slide_type": "slide"
    }
   },
   "source": [
    "# Otázky ... ?"
   ]
  },
  {
   "cell_type": "markdown",
   "metadata": {
    "slideshow": {
     "slide_type": "slide"
    }
   },
   "source": [
    "# Děkujeme za pozornost."
   ]
  },
  {
   "cell_type": "markdown",
   "metadata": {
    "slideshow": {
     "slide_type": "slide"
    }
   },
   "source": [
    "## Algebraizace modelu\n",
    "\n",
    "- Hinkelmann, Murrugarra a Jarrah [2] navrhli rozšíření ODD protokolu popisující ABM model pomocí polynomů \n",
    "- nechť $\\mathbb{F}$ je stavový prostor tvořící těleso\n",
    "- stav celého systému je vektor hodnot (jedna pro každého agenta $x_i$) z $\\mathbb{F}$\n",
    "- pro každého agenta $x_i$ definujeme lokální přechodovou funkci $f_i : \\mathbb{F}^n \\longrightarrow \\mathbb{F}$, vstupem jsou stavy sousedních agentů\n",
    "- celý systém popíšeme funkci $f = (f_1,\\dots,f_n): \\mathbb{F}^n \\longrightarrow \\mathbb{F}^n$, kde všechny $f_i \\in \\mathbb{F}[x_1, \\dots , x_n]$ jsou polynomy\n",
    "\n",
    "\n",
    "<sup>[2] Hinkelmann, F., Murrugarra, D., Jarrah, A.S. et al. A Mathematical Framework for Agent Based Models of Complex Biological Networks, Bull Math Biol (2011) 73: 1583. https://doi.org/10.1007/s11538-010-9582-8</sup>"
   ]
  },
  {
   "cell_type": "markdown",
   "metadata": {
    "slideshow": {
     "slide_type": "slide"
    }
   },
   "source": [
    "## Příklad: Conway's Game of Life\n",
    "\n",
    "- čtvercová síť agentů, $\\mathbb{F}_2 = \\{$mrtvý,živý$\\}$ \n",
    "- každý agent má 8 sousedů (vlevo/vpravo, nahoře/dole, diagonálně)\n",
    "- platí pravidla:\n",
    "  - každý živý agent s méně než 2 živými sousedy umírá\n",
    "  - každý živý agent s více než 3 živými sousedy umírá\n",
    "  - každý živý agent s 2 nebo 3 živými sousedy zůstává naživu\n",
    "  - každý mrtvý agent s přesně 3 živými sousedy obživne\n",
    "\n",
    "\n"
   ]
  },
  {
   "cell_type": "markdown",
   "metadata": {
    "slideshow": {
     "slide_type": "slide"
    }
   },
   "source": [
    "## Příklad: Conway's Game of Life\n",
    "\n",
    "- definujeme funkci\n",
    "$$f_x(x,x_1,\\dots,x_8)= \\begin{cases} 0 : \\sum_{i=1}^8 x_i < 2 \\\\ 0 : \\sum_{i=1}^8 x_i = 2 \\text{ a } x = 0 \\\\ 1 : \\sum_{i=1}^8 x_i = 2 \\text{ a } x = 1 \\\\ 1 : \\sum_{i=1}^8 x_i = 3 \\\\ 0 : \\sum_{i=1}^8 x_i > 3\\end{cases}$$\n",
    "\n",
    "- algebraický model má tvar\n",
    "$$f = (f_1, \\dots, f_{n \\times n}):\\mathbb{F}_2^{n \\times n} \\longrightarrow \\mathbb{F}_2^{n \\times n}, x_i \\mapsto f_i(x_1, \\dots, x_{n \\times n})$$\n",
    "\n",
    "- stabilní stavy modelu získáme vyřešením soustavu polynomiálních rovnic\n",
    "$$f_i(x) - x_i = 0, \\; i=1\\dots n \\times n$$\n"
   ]
  },
  {
   "cell_type": "markdown",
   "metadata": {
    "slideshow": {
     "slide_type": "notes"
    }
   },
   "source": [
    "- kde $n$ je dimenze čtvercové mřížky"
   ]
  },
  {
   "cell_type": "markdown",
   "metadata": {
    "slideshow": {
     "slide_type": "slide"
    }
   },
   "source": [
    "## Příklad: Conway's Game of Life\n",
    "\n",
    "- na mřížce $4 \\times 4$ existuje celkem $2^{16} = 65536$ stavů\n",
    "- model je popsán 16 rovnicemi\n",
    "- vhodné spíše pro menší sítě, počet stavů a rovnic rychle roste \n"
   ]
  },
  {
   "cell_type": "markdown",
   "metadata": {
    "slideshow": {
     "slide_type": "notes"
    }
   },
   "source": [
    "Takovýto systém lze vyřešit poměrně snadno. Pro větší mřížky stavový prostor rychle narůstá a stejně tak i počet rovnic."
   ]
  },
  {
   "cell_type": "markdown",
   "metadata": {
    "slideshow": {
     "slide_type": "slide"
    }
   },
   "source": [
    "# Děkujeme za pozornost."
   ]
  }
 ],
 "metadata": {
  "celltoolbar": "Slideshow",
  "kernelspec": {
   "display_name": "Python 3",
   "language": "python",
   "name": "python3"
  },
  "language_info": {
   "codemirror_mode": {
    "name": "ipython",
    "version": 3
   },
   "file_extension": ".py",
   "mimetype": "text/x-python",
   "name": "python",
   "nbconvert_exporter": "python",
   "pygments_lexer": "ipython3",
   "version": "3.8.2"
  },
  "rise": {
   "transition": "fade"
  },
  "toc": {
   "base_numbering": 1,
   "nav_menu": {},
   "number_sections": false,
   "sideBar": true,
   "skip_h1_title": false,
   "title_cell": "Table of Contents",
   "title_sidebar": "Contents",
   "toc_cell": false,
   "toc_position": {},
   "toc_section_display": true,
   "toc_window_display": false
  }
 },
 "nbformat": 4,
 "nbformat_minor": 2
}
